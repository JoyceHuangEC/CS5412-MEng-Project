{
 "cells": [
  {
   "cell_type": "code",
   "execution_count": 1,
   "id": "34aab030",
   "metadata": {},
   "outputs": [],
   "source": [
    "# https://www.geeksforgeeks.org/scrape-linkedin-using-selenium-and-beautiful-soup-in-python/"
   ]
  },
  {
   "cell_type": "code",
   "execution_count": 2,
   "id": "f5782f47",
   "metadata": {},
   "outputs": [],
   "source": [
    "from selenium import webdriver\n",
    "from selenium.webdriver.common.by import By\n",
    "from selenium.webdriver.common.keys import Keys\n",
    "from webdriver_manager.chrome import ChromeDriverManager\n",
    "from bs4 import BeautifulSoup\n",
    "import time"
   ]
  },
  {
   "cell_type": "markdown",
   "id": "98645735",
   "metadata": {},
   "source": [
    "## Logging in to LinkedIn"
   ]
  },
  {
   "cell_type": "code",
   "execution_count": 3,
   "id": "ee6c875a",
   "metadata": {},
   "outputs": [
    {
     "name": "stderr",
     "output_type": "stream",
     "text": [
      "C:\\Users\\Joyce\\AppData\\Local\\Temp\\ipykernel_10424\\2930654737.py:2: DeprecationWarning: executable_path has been deprecated, please pass in a Service object\n",
      "  driver = webdriver.Chrome(ChromeDriverManager().install())\n"
     ]
    }
   ],
   "source": [
    "# Creating a webdriver instance\n",
    "driver = webdriver.Chrome(ChromeDriverManager().install())"
   ]
  },
  {
   "cell_type": "code",
   "execution_count": 4,
   "id": "98119453",
   "metadata": {},
   "outputs": [],
   "source": [
    "# Opening linkedIn's login page\n",
    "driver.get(\"https://linkedin.com/uas/login\")\n",
    "# waiting for the page to load\n",
    "time.sleep(2)"
   ]
  },
  {
   "cell_type": "code",
   "execution_count": 5,
   "id": "1c7c6f08",
   "metadata": {},
   "outputs": [],
   "source": [
    "# entering username\n",
    "username = driver.find_element(By.ID, \"username\")\n",
    "# Enter Your Email Address\n",
    "username.send_keys(\"sh2429@cornell.edu\")"
   ]
  },
  {
   "cell_type": "code",
   "execution_count": 6,
   "id": "b4d995e8",
   "metadata": {},
   "outputs": [],
   "source": [
    "# entering password\n",
    "pword = driver.find_element(By.ID, \"password\")\n",
    "# Enter Your Password\n",
    "pword.send_keys(\"qzwx.1506\")"
   ]
  },
  {
   "cell_type": "code",
   "execution_count": 7,
   "id": "4038d18e",
   "metadata": {},
   "outputs": [],
   "source": [
    "# Clicking on the log in button\n",
    "# Format (syntax) of writing XPath -->\n",
    "# //tagname[@attribute='value']\n",
    "driver.find_element(By.XPATH, \"//button[@type='submit']\").click()"
   ]
  },
  {
   "cell_type": "markdown",
   "id": "c0e33fa4",
   "metadata": {},
   "source": [
    "## Extracting Profile Data"
   ]
  },
  {
   "cell_type": "code",
   "execution_count": 8,
   "id": "322d6134",
   "metadata": {},
   "outputs": [],
   "source": [
    "# # Opening Joyce's Profile\n",
    "# # paste the URL of Joyce's profile here\n",
    "# profile_url = \"https://www.linkedin.com/in/shuyan-huang-cs/\"\n",
    "# # this will open the link\n",
    "# driver.get(profile_url)"
   ]
  },
  {
   "cell_type": "code",
   "execution_count": 9,
   "id": "fe4302a9",
   "metadata": {},
   "outputs": [],
   "source": [
    "# Now, we need to scroll to the bottom. Here is the code to do that:\n",
    "start = time.time()\n",
    "\n",
    "# will be used in the while loop\n",
    "initialScroll = 0\n",
    "finalScroll = 1000\n",
    "\n",
    "while True:\n",
    "    driver.execute_script(f\"window.scrollTo({initialScroll},{finalScroll})\")\n",
    "    # this command scrolls the window starting from\n",
    "    # the pixel value stored in the initialScroll\n",
    "    # variable to the pixel value stored at the\n",
    "    # finalScroll variable\n",
    "    initialScroll = finalScroll\n",
    "    finalScroll += 1000\n",
    " \n",
    "    # we will stop the script for 3 seconds so that the data can load\n",
    "    time.sleep(3)\n",
    "    # You can change it as per your needs and internet speed\n",
    " \n",
    "    end = time.time()\n",
    " \n",
    "    # We will scroll for 20 seconds.\n",
    "    # You can change it as per your needs and internet speed\n",
    "    if round(end - start) > 20:\n",
    "        break"
   ]
  },
  {
   "cell_type": "code",
   "execution_count": 10,
   "id": "0336f97e",
   "metadata": {},
   "outputs": [],
   "source": [
    "# src = driver.page_source\n",
    " \n",
    "# # Now using beautiful soup\n",
    "# soup = BeautifulSoup(src, 'lxml')"
   ]
  },
  {
   "cell_type": "markdown",
   "id": "aead6ba5",
   "metadata": {},
   "source": [
    "### Extract Introduction"
   ]
  },
  {
   "cell_type": "code",
   "execution_count": 11,
   "id": "af285627",
   "metadata": {},
   "outputs": [],
   "source": [
    "# # Extracting the HTML of the complete introduction box\n",
    "# # that contains the name, company name, and the location\n",
    "# intro = soup.find('div', {'class': 'pv-text-details__left-panel'})\n",
    "\n",
    "# print(intro)"
   ]
  },
  {
   "cell_type": "code",
   "execution_count": 12,
   "id": "e70038d7",
   "metadata": {},
   "outputs": [],
   "source": [
    "# # In case of an error, try changing the tags used here.\n",
    " \n",
    "# name_loc = intro.find(\"h1\")\n",
    " \n",
    "# # Extracting the Name\n",
    "# name = name_loc.get_text().strip()\n",
    "# # strip() is used to remove any extra blank spaces\n",
    " \n",
    "# works_at_loc = intro.find(\"div\", {'class': 'text-body-medium'})\n",
    "\n",
    "# # this gives us the HTML of the tag in which the Company Name is present\n",
    "# # Extracting the Company Name\n",
    "# works_at = works_at_loc.get_text().strip()\n",
    "\n",
    "# print(\"Name -->\", name,\n",
    "#       \"\\nWorks At -->\", works_at)"
   ]
  },
  {
   "cell_type": "markdown",
   "id": "ad270bd7",
   "metadata": {},
   "source": [
    "## Extracting Job Search Data"
   ]
  },
  {
   "cell_type": "code",
   "execution_count": 13,
   "id": "162a857a",
   "metadata": {},
   "outputs": [],
   "source": [
    "# Opening job's page\n",
    "# paste the URL of job's page here\n",
    "job_url = \"https://www.linkedin.com/jobs/\"\n",
    "# this will open the link\n",
    "driver.get(job_url)\n",
    "time.sleep(2)"
   ]
  },
  {
   "cell_type": "code",
   "execution_count": 14,
   "id": "a0c46ce6",
   "metadata": {},
   "outputs": [],
   "source": [
    "# entering search keywords\n",
    "search = driver.find_element(By.XPATH, \"//input[starts-with(@id, 'jobs-search-box-keyword-id-ember')]\")\n",
    "search.send_keys(\"software engineer\")\n",
    "time.sleep(2)\n",
    "search.send_keys(Keys.RETURN)\n",
    "# <input id=\"jobs-search-box-keyword-id-ember26\" class=\"jobs-search-box__text-input jobs-search-box__keyboard-text-input\" autocomplete=\"chrome-off\" spellcheck=\"false\" role=\"combobox\" aria-autocomplete=\"list\" aria-label=\"Search by title, skill, or company\" aria-activedescendant=\"\" aria-expanded=\"false\" type=\"text\">"
   ]
  },
  {
   "cell_type": "code",
   "execution_count": 15,
   "id": "547a53bd",
   "metadata": {},
   "outputs": [],
   "source": [
    "# scroll\n",
    "time.sleep(2)\n",
    "left_panel = driver.find_element(By.CLASS_NAME, \"jobs-search-results-list\")\n",
    "time.sleep(1)\n",
    "verical_ordinate = 100\n",
    "for i in range(0, 50):\n",
    "   driver.execute_script(\"arguments[0].scrollTop = arguments[1]\", left_panel, verical_ordinate)\n",
    "   verical_ordinate += 100\n",
    "   time.sleep(1)"
   ]
  },
  {
   "cell_type": "code",
   "execution_count": 16,
   "id": "960ebc72",
   "metadata": {},
   "outputs": [],
   "source": [
    "job_src = driver.page_source\n",
    "soup = BeautifulSoup(job_src, 'lxml')"
   ]
  },
  {
   "cell_type": "code",
   "execution_count": 17,
   "id": "7a65c3f7",
   "metadata": {},
   "outputs": [
    {
     "name": "stdout",
     "output_type": "stream",
     "text": [
      "['Python Developer', 'Software Engineer, Full Stack', 'NESD BMC Remedy/Helix Developer Sr.', 'Software Engineer Staff - TS/SCI w/ Poly (*Up to $25K Sign-On Bonus*)', 'Machine Learning Research Engineer II', 'Backend Engineer - Data Modelling', '2023 Internship - RCP Research Scientist', 'Backend Developer', 'Web Developer', 'Front-End Engineer (Vue.js) - Remote', 'Chapter Next Returnship- Embedded Software Engineer', 'Simulation and Machine Learning Engineer, Ad Platforms', 'Software Engineer Intern', 'Senior Software Engineer', 'Backend Engineer', 'Back End Developer', 'Software Engineer - Early Career', 'Staff - NLP Machine Learning Engineer', 'Quantitative Developer', 'Python Backend Engineer', 'Backend Engineer - Contract', 'Junior Software Engineer', 'Machine Learning Engineer - All Levels (REMOTE)']\n"
     ]
    }
   ],
   "source": [
    "jobs_html = soup.find_all('a', {'class': 'job-card-list__title'})\n",
    "\n",
    "job_titles = []\n",
    " \n",
    "for title in jobs_html:\n",
    "    job_titles.append(title.text.strip())\n",
    "\n",
    "print(job_titles)"
   ]
  },
  {
   "cell_type": "code",
   "execution_count": 18,
   "id": "0985b1a2",
   "metadata": {},
   "outputs": [
    {
     "name": "stdout",
     "output_type": "stream",
     "text": [
      "['Collabera', 'Capital One', 'General Dynamics Information Technology', 'Lockheed Martin', 'R-DEX Systems, Inc.', 'Clevertech', \"Landry's\", 'Symphony Talent Middleware Test Company', 'Dice', 'runZero', 'Lockheed Martin', 'Apple', 'Domo, Inc.', 'TeachFX', 'CloserIQ', 'Pattern Bioscience', 'Lockheed Martin', 'Jasper', 'Arrowstreet Capital, Limited Partnership', 'Motion Recruitment', 'PAX', 'Wiley Edge', 'GEICO']\n"
     ]
    }
   ],
   "source": [
    "company_name_html = soup.find_all(\n",
    "  'a', {'class': 'job-card-container__company-name'})\n",
    "company_names = []\n",
    "\n",
    "for name in company_name_html:\n",
    "    company_names.append(name.text.strip())\n",
    "\n",
    "print(company_names)"
   ]
  }
 ],
 "metadata": {
  "kernelspec": {
   "display_name": "cs5412-env",
   "language": "python",
   "name": "cs5412-env"
  },
  "language_info": {
   "codemirror_mode": {
    "name": "ipython",
    "version": 3
   },
   "file_extension": ".py",
   "mimetype": "text/x-python",
   "name": "python",
   "nbconvert_exporter": "python",
   "pygments_lexer": "ipython3",
   "version": "3.8.10"
  }
 },
 "nbformat": 4,
 "nbformat_minor": 5
}
