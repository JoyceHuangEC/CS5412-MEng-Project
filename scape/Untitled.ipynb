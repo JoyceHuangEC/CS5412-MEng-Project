{
 "cells": [
  {
   "cell_type": "code",
   "execution_count": null,
   "id": "34aab030",
   "metadata": {},
   "outputs": [],
   "source": [
    "# https://www.geeksforgeeks.org/scrape-linkedin-using-selenium-and-beautiful-soup-in-python/"
   ]
  },
  {
   "cell_type": "code",
   "execution_count": 30,
   "id": "f5782f47",
   "metadata": {},
   "outputs": [],
   "source": [
    "from selenium import webdriver\n",
    "from selenium.webdriver.common.by import By\n",
    "from selenium.webdriver.common.keys import Keys\n",
    "from webdriver_manager.chrome import ChromeDriverManager\n",
    "from bs4 import BeautifulSoup\n",
    "import time"
   ]
  },
  {
   "cell_type": "markdown",
   "id": "98645735",
   "metadata": {},
   "source": [
    "## Logging in to LinkedIn"
   ]
  },
  {
   "cell_type": "code",
   "execution_count": 2,
   "id": "ee6c875a",
   "metadata": {},
   "outputs": [
    {
     "name": "stderr",
     "output_type": "stream",
     "text": [
      "C:\\Users\\Joyce\\AppData\\Local\\Temp\\ipykernel_1072\\2930654737.py:2: DeprecationWarning: executable_path has been deprecated, please pass in a Service object\n",
      "  driver = webdriver.Chrome(ChromeDriverManager().install())\n"
     ]
    }
   ],
   "source": [
    "# Creating a webdriver instance\n",
    "driver = webdriver.Chrome(ChromeDriverManager().install())"
   ]
  },
  {
   "cell_type": "code",
   "execution_count": 3,
   "id": "98119453",
   "metadata": {},
   "outputs": [],
   "source": [
    "# Opening linkedIn's login page\n",
    "driver.get(\"https://linkedin.com/uas/login\")\n",
    "# waiting for the page to load\n",
    "time.sleep(5)"
   ]
  },
  {
   "cell_type": "code",
   "execution_count": 4,
   "id": "1c7c6f08",
   "metadata": {},
   "outputs": [],
   "source": [
    "# entering username\n",
    "username = driver.find_element(By.ID, \"username\")\n",
    "# Enter Your Email Address\n",
    "username.send_keys(\"sh2429@cornell.edu\") "
   ]
  },
  {
   "cell_type": "code",
   "execution_count": 5,
   "id": "b4d995e8",
   "metadata": {},
   "outputs": [],
   "source": [
    "# entering password\n",
    "pword = driver.find_element(By.ID, \"password\")\n",
    "# Enter Your Password\n",
    "pword.send_keys(\"qzwx.1506\") "
   ]
  },
  {
   "cell_type": "code",
   "execution_count": 6,
   "id": "4038d18e",
   "metadata": {},
   "outputs": [],
   "source": [
    "# Clicking on the log in button\n",
    "# Format (syntax) of writing XPath -->\n",
    "# //tagname[@attribute='value']\n",
    "driver.find_element(By.XPATH, \"//button[@type='submit']\").click()"
   ]
  },
  {
   "cell_type": "markdown",
   "id": "c0e33fa4",
   "metadata": {},
   "source": [
    "## Extracting Profile Data"
   ]
  },
  {
   "cell_type": "code",
   "execution_count": 7,
   "id": "322d6134",
   "metadata": {},
   "outputs": [],
   "source": [
    "# Opening Joyce's Profile\n",
    "# paste the URL of Joyce's profile here\n",
    "profile_url = \"https://www.linkedin.com/in/shuyan-huang-cs/\"\n",
    "# this will open the link\n",
    "driver.get(profile_url)"
   ]
  },
  {
   "cell_type": "code",
   "execution_count": 8,
   "id": "fe4302a9",
   "metadata": {},
   "outputs": [],
   "source": [
    "# Now, we need to scroll to the bottom. Here is the code to do that:\n",
    "start = time.time()\n",
    "\n",
    "# will be used in the while loop\n",
    "initialScroll = 0\n",
    "finalScroll = 1000\n",
    "\n",
    "while True:\n",
    "    driver.execute_script(f\"window.scrollTo({initialScroll},{finalScroll})\")\n",
    "    # this command scrolls the window starting from\n",
    "    # the pixel value stored in the initialScroll\n",
    "    # variable to the pixel value stored at the\n",
    "    # finalScroll variable\n",
    "    initialScroll = finalScroll\n",
    "    finalScroll += 1000\n",
    " \n",
    "    # we will stop the script for 3 seconds so that\n",
    "    # the data can load\n",
    "    time.sleep(3)\n",
    "    # You can change it as per your needs and internet speed\n",
    " \n",
    "    end = time.time()\n",
    " \n",
    "    # We will scroll for 20 seconds.\n",
    "    # You can change it as per your needs and internet speed\n",
    "    if round(end - start) > 20:\n",
    "        break"
   ]
  },
  {
   "cell_type": "code",
   "execution_count": 14,
   "id": "0336f97e",
   "metadata": {},
   "outputs": [],
   "source": [
    "src = driver.page_source\n",
    " \n",
    "# Now using beautiful soup\n",
    "soup = BeautifulSoup(src, 'lxml')"
   ]
  },
  {
   "cell_type": "markdown",
   "id": "aead6ba5",
   "metadata": {},
   "source": [
    "### Extract Introduction"
   ]
  },
  {
   "cell_type": "code",
   "execution_count": 16,
   "id": "af285627",
   "metadata": {},
   "outputs": [
    {
     "name": "stdout",
     "output_type": "stream",
     "text": [
      "<div class=\"pv-text-details__left-panel\">\n",
      "<div>\n",
      "<h1 class=\"text-heading-xlarge inline t-24 v-align-middle break-words\">Shuyan Huang</h1>\n",
      "<!-- -->\n",
      "<span class=\"text-body-small v-align-middle break-words\">\n",
      "     (She/Her)\n",
      "  </span>\n",
      "<!-- --><!-- --> </div>\n",
      "<!-- --> <div class=\"text-body-medium break-words\">\n",
      "      Computer Science @ Cornell University\n",
      "    </div>\n",
      "<!-- --> </div>\n"
     ]
    }
   ],
   "source": [
    "# Extracting the HTML of the complete introduction box\n",
    "# that contains the name, company name, and the location\n",
    "intro = soup.find('div', {'class': 'pv-text-details__left-panel'})\n",
    " \n",
    "print(intro)"
   ]
  },
  {
   "cell_type": "code",
   "execution_count": 17,
   "id": "e70038d7",
   "metadata": {},
   "outputs": [
    {
     "name": "stdout",
     "output_type": "stream",
     "text": [
      "Name --> Shuyan Huang \n",
      "Works At --> Computer Science @ Cornell University\n"
     ]
    }
   ],
   "source": [
    "# In case of an error, try changing the tags used here.\n",
    " \n",
    "name_loc = intro.find(\"h1\")\n",
    " \n",
    "# Extracting the Name\n",
    "name = name_loc.get_text().strip()\n",
    "# strip() is used to remove any extra blank spaces\n",
    " \n",
    "works_at_loc = intro.find(\"div\", {'class': 'text-body-medium'})\n",
    "\n",
    "# this gives us the HTML of the tag in which the Company Name is present\n",
    "# Extracting the Company Name\n",
    "works_at = works_at_loc.get_text().strip()\n",
    "\n",
    "print(\"Name -->\", name,\n",
    "      \"\\nWorks At -->\", works_at)"
   ]
  },
  {
   "cell_type": "markdown",
   "id": "ad270bd7",
   "metadata": {},
   "source": [
    "## Extracting Job Search Data"
   ]
  },
  {
   "cell_type": "code",
   "execution_count": 34,
   "id": "162a857a",
   "metadata": {},
   "outputs": [],
   "source": [
    "# Opening job's page\n",
    "# paste the URL of job's page here\n",
    "job_url = \"https://www.linkedin.com/jobs/\"\n",
    "# this will open the link\n",
    "driver.get(job_url)\n",
    "time.sleep(5)"
   ]
  },
  {
   "cell_type": "code",
   "execution_count": 35,
   "id": "a0c46ce6",
   "metadata": {},
   "outputs": [],
   "source": [
    "# entering search keywords\n",
    "username = driver.find_element(By.ID, \"jobs-search-box-keyword-id-ember26\")\n",
    "username.send_keys(\"software engineer\")\n",
    "username.send_keys(Keys.RETURN)\n",
    "# <input id=\"jobs-search-box-keyword-id-ember26\" class=\"jobs-search-box__text-input jobs-search-box__keyboard-text-input\" autocomplete=\"chrome-off\" spellcheck=\"false\" role=\"combobox\" aria-autocomplete=\"list\" aria-label=\"Search by title, skill, or company\" aria-activedescendant=\"\" aria-expanded=\"false\" type=\"text\">"
   ]
  }
 ],
 "metadata": {
  "kernelspec": {
   "display_name": "cs5412-env",
   "language": "python",
   "name": "cs5412-env"
  },
  "language_info": {
   "codemirror_mode": {
    "name": "ipython",
    "version": 3
   },
   "file_extension": ".py",
   "mimetype": "text/x-python",
   "name": "python",
   "nbconvert_exporter": "python",
   "pygments_lexer": "ipython3",
   "version": "3.8.10"
  }
 },
 "nbformat": 4,
 "nbformat_minor": 5
}
